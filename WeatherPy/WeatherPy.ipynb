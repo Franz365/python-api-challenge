{
 "cells": [
  {
   "cell_type": "markdown",
   "metadata": {},
   "source": [
    "# WeatherPy\n",
    "----\n",
    "\n",
    "#### Note\n",
    "* Instructions have been included for each segment. You do not have to follow them exactly, but they are included to help you think through the steps."
   ]
  },
  {
   "cell_type": "code",
   "execution_count": 12,
   "metadata": {
    "scrolled": true
   },
   "outputs": [],
   "source": [
    "# Dependencies\n",
    "import matplotlib.pyplot as plt\n",
    "import pandas as pd\n",
    "import numpy as np\n",
    "import json\n",
    "import requests\n",
    "import time\n",
    "from scipy.stats import linregress\n",
    "import random\n",
    "\n",
    "# Import the API key\n",
    "from api_keys import weather_api_key\n",
    "\n",
    "# citipy to determine cities based latitude and longitude\n",
    "from citipy import citipy\n"
   ]
  },
  {
   "cell_type": "markdown",
   "metadata": {},
   "source": [
    "## Generate Cities List"
   ]
  },
  {
   "cell_type": "code",
   "execution_count": 13,
   "metadata": {},
   "outputs": [
    {
     "data": {
      "text/plain": [
       "541"
      ]
     },
     "execution_count": 13,
     "metadata": {},
     "output_type": "execute_result"
    }
   ],
   "source": [
    "# define list that will hold the city names\n",
    "cities = []\n",
    "\n",
    "# generate random cities list by looping through random coordinates\n",
    "for x in range(1300):\n",
    "    \n",
    "    # generate random latitude and longitude coordinates\n",
    "    r_lat = random.randint(-90,90)\n",
    "    r_lng = random.randint(-180,180)\n",
    "    \n",
    "    # generate cities and append list based on randomised lat,lng.\n",
    "    city = citipy.nearest_city(r_lat,r_lng)\n",
    "    cities.append(city.city_name)\n",
    "\n",
    "# delete duplicates with set function\n",
    "cities = list(set(cities))\n",
    "len(cities)"
   ]
  },
  {
   "cell_type": "code",
   "execution_count": 3,
   "metadata": {},
   "outputs": [
    {
     "data": {
      "text/plain": [
       "list"
      ]
     },
     "execution_count": 3,
     "metadata": {},
     "output_type": "execute_result"
    }
   ],
   "source": [
    "type(cities)"
   ]
  },
  {
   "cell_type": "code",
   "execution_count": 4,
   "metadata": {},
   "outputs": [
    {
     "data": {
      "text/plain": [
       "['yarmouth',\n",
       " 'otradnoye',\n",
       " 'pokhara',\n",
       " 'colinas',\n",
       " 'bouloupari',\n",
       " 'salekhard',\n",
       " 'breyten',\n",
       " 'punta arenas',\n",
       " 'keetmanshoop',\n",
       " 'havoysund']"
      ]
     },
     "execution_count": 4,
     "metadata": {},
     "output_type": "execute_result"
    }
   ],
   "source": [
    "cities[:10]"
   ]
  },
  {
   "cell_type": "markdown",
   "metadata": {},
   "source": [
    "### Perform API Calls\n",
    "* Perform a weather check on each city using a series of successive API calls.\n",
    "* Include a print log of each city as it'sbeing processed (with the city number and city name).\n"
   ]
  },
  {
   "cell_type": "code",
   "execution_count": 5,
   "metadata": {
    "scrolled": true
   },
   "outputs": [
    {
     "name": "stdout",
     "output_type": "stream",
     "text": [
      "Beginning Data Retrieval\n",
      "-----------------------------\n",
      "Processing Record 1 of Set 1 | yarmouth\n",
      "Processing Record 2 of Set 1 | otradnoye\n",
      "Processing Record 3 of Set 1 | pokhara\n",
      "Processing Record 4 of Set 1 | colinas\n",
      "Processing Record 5 of Set 1 | bouloupari\n",
      "Processing Record 6 of Set 1 | salekhard\n",
      "Processing Record 7 of Set 1 | breyten\n",
      "Processing Record 8 of Set 1 | punta arenas\n",
      "Processing Record 9 of Set 1 | keetmanshoop\n",
      "Processing Record 10 of Set 1 | havoysund\n",
      "Processing Record 11 of Set 1 | mount gambier\n",
      "Processing Record 12 of Set 1 | temaraia\n",
      "City not found. Skipping...\n",
      "Processing Record 13 of Set 1 | maceio\n",
      "Processing Record 14 of Set 1 | meyungs\n",
      "City not found. Skipping...\n",
      "Processing Record 15 of Set 1 | darhan\n",
      "Processing Record 16 of Set 1 | itarema\n",
      "Processing Record 17 of Set 1 | sandakan\n",
      "Processing Record 18 of Set 1 | tingrela\n",
      "City not found. Skipping...\n",
      "Processing Record 19 of Set 1 | vaitupu\n",
      "City not found. Skipping...\n",
      "Processing Record 20 of Set 1 | vardo\n",
      "Processing Record 21 of Set 1 | adre\n",
      "Processing Record 22 of Set 1 | dikson\n",
      "Processing Record 23 of Set 1 | husavik\n",
      "Processing Record 24 of Set 1 | sagua la grande\n",
      "Processing Record 25 of Set 1 | krabi\n",
      "Processing Record 26 of Set 1 | skalistyy\n",
      "City not found. Skipping...\n",
      "Processing Record 27 of Set 1 | guerrero negro\n",
      "Processing Record 28 of Set 1 | lorengau\n",
      "Processing Record 29 of Set 1 | mahajanga\n",
      "Processing Record 30 of Set 1 | rodrigues alves\n",
      "Processing Record 31 of Set 1 | japura\n",
      "Processing Record 32 of Set 1 | senno\n",
      "Processing Record 33 of Set 1 | ketchikan\n",
      "Processing Record 34 of Set 1 | gimli\n",
      "Processing Record 35 of Set 1 | troitsko-pechorsk\n",
      "Processing Record 36 of Set 1 | dakoro\n",
      "Processing Record 37 of Set 1 | strelka\n",
      "Processing Record 38 of Set 1 | pochutla\n",
      "Processing Record 39 of Set 1 | tetovo\n",
      "Processing Record 40 of Set 1 | stromness\n",
      "Processing Record 41 of Set 1 | kupang\n",
      "Processing Record 42 of Set 1 | nuuk\n",
      "Processing Record 43 of Set 1 | coihaique\n",
      "Processing Record 44 of Set 1 | henties bay\n",
      "Processing Record 45 of Set 1 | lind\n",
      "Processing Record 46 of Set 1 | ilulissat\n",
      "Processing Record 47 of Set 1 | kautokeino\n",
      "Processing Record 48 of Set 1 | krasnoselkup\n",
      "Processing Record 49 of Set 1 | lolua\n",
      "City not found. Skipping...\n",
      "Processing Record 50 of Set 1 | faro\n",
      "Processing Record 0 of Set 2 | minbu\n",
      "Processing Record 1 of Set 2 | byron bay\n",
      "Processing Record 2 of Set 2 | nalut\n",
      "Processing Record 3 of Set 2 | buala\n",
      "Processing Record 4 of Set 2 | vestmannaeyjar\n",
      "Processing Record 5 of Set 2 | kombissiri\n",
      "Processing Record 6 of Set 2 | tarauaca\n",
      "Processing Record 7 of Set 2 | viligili\n",
      "City not found. Skipping...\n",
      "Processing Record 8 of Set 2 | le port\n",
      "Processing Record 9 of Set 2 | klaksvik\n",
      "Processing Record 10 of Set 2 | barbar\n",
      "City not found. Skipping...\n",
      "Processing Record 11 of Set 2 | nouadhibou\n",
      "Processing Record 12 of Set 2 | coari\n",
      "Processing Record 13 of Set 2 | dakar\n",
      "Processing Record 14 of Set 2 | tiznit\n",
      "Processing Record 15 of Set 2 | ponta do sol\n",
      "Processing Record 16 of Set 2 | richards bay\n",
      "Processing Record 17 of Set 2 | opuwo\n",
      "Processing Record 18 of Set 2 | mitsamiouli\n",
      "Processing Record 19 of Set 2 | nykobing\n",
      "City not found. Skipping...\n",
      "Processing Record 20 of Set 2 | saint george\n",
      "Processing Record 21 of Set 2 | ocean city\n",
      "Processing Record 22 of Set 2 | esperance\n",
      "Processing Record 23 of Set 2 | nikki\n",
      "Processing Record 24 of Set 2 | swan hill\n",
      "Processing Record 25 of Set 2 | ranot\n",
      "Processing Record 26 of Set 2 | talcahuano\n",
      "Processing Record 27 of Set 2 | vanavara\n",
      "Processing Record 28 of Set 2 | airai\n",
      "Processing Record 29 of Set 2 | atlantic city\n",
      "Processing Record 30 of Set 2 | hamilton\n",
      "Processing Record 31 of Set 2 | katete\n",
      "Processing Record 32 of Set 2 | ondorhaan\n",
      "City not found. Skipping...\n",
      "Processing Record 33 of Set 2 | yuzhno-yeniseyskiy\n",
      "City not found. Skipping...\n",
      "Processing Record 34 of Set 2 | bredasdorp\n",
      "Processing Record 35 of Set 2 | esil\n",
      "Processing Record 36 of Set 2 | sur\n",
      "Processing Record 37 of Set 2 | constitucion\n",
      "Processing Record 38 of Set 2 | ust-kuyga\n",
      "Processing Record 39 of Set 2 | baruun-urt\n",
      "Processing Record 40 of Set 2 | taolanaro\n",
      "City not found. Skipping...\n",
      "Processing Record 41 of Set 2 | westport\n",
      "Processing Record 42 of Set 2 | sistranda\n",
      "Processing Record 43 of Set 2 | santa rosa\n",
      "Processing Record 44 of Set 2 | pevek\n",
      "Processing Record 45 of Set 2 | fort-shevchenko\n",
      "Processing Record 46 of Set 2 | fairbanks\n",
      "Processing Record 47 of Set 2 | mehamn\n",
      "Processing Record 48 of Set 2 | san cristobal\n",
      "Processing Record 49 of Set 2 | busselton\n",
      "Processing Record 50 of Set 2 | alice springs\n",
      "Processing Record 0 of Set 3 | tooele\n",
      "Processing Record 1 of Set 3 | sorong\n",
      "Processing Record 2 of Set 3 | nyurba\n",
      "Processing Record 3 of Set 3 | toora-khem\n",
      "Processing Record 4 of Set 3 | ust-bolsheretsk\n",
      "City not found. Skipping...\n",
      "Processing Record 5 of Set 3 | simao\n",
      "Processing Record 6 of Set 3 | san benito abad\n",
      "Processing Record 7 of Set 3 | bogandinskiy\n",
      "Processing Record 8 of Set 3 | torbay\n",
      "Processing Record 9 of Set 3 | partyzany\n",
      "Processing Record 10 of Set 3 | lahaina\n",
      "Processing Record 11 of Set 3 | yinchuan\n",
      "Processing Record 12 of Set 3 | santo antonio do taua\n",
      "Processing Record 13 of Set 3 | kigoma\n",
      "Processing Record 14 of Set 3 | kapuskasing\n",
      "Processing Record 15 of Set 3 | kashi\n",
      "Processing Record 16 of Set 3 | provideniya\n",
      "Processing Record 17 of Set 3 | provost\n",
      "Processing Record 18 of Set 3 | udachnyy\n",
      "Processing Record 19 of Set 3 | lamovita\n",
      "Processing Record 20 of Set 3 | zhanatas\n",
      "City not found. Skipping...\n",
      "Processing Record 21 of Set 3 | saleaula\n",
      "City not found. Skipping...\n",
      "Processing Record 22 of Set 3 | upernavik\n",
      "Processing Record 23 of Set 3 | vila praia de ancora\n",
      "Processing Record 24 of Set 3 | charters towers\n",
      "Processing Record 25 of Set 3 | codrington\n",
      "Processing Record 26 of Set 3 | lebu\n",
      "Processing Record 27 of Set 3 | mocuba\n",
      "Processing Record 28 of Set 3 | deputatskiy\n",
      "Processing Record 29 of Set 3 | manta\n",
      "Processing Record 30 of Set 3 | tumannyy\n",
      "City not found. Skipping...\n",
      "Processing Record 31 of Set 3 | avarua\n",
      "Processing Record 32 of Set 3 | albany\n",
      "Processing Record 33 of Set 3 | hojai\n",
      "Processing Record 34 of Set 3 | dunedin\n",
      "Processing Record 35 of Set 3 | saldanha\n",
      "Processing Record 36 of Set 3 | gamba\n",
      "Processing Record 37 of Set 3 | hanover\n",
      "Processing Record 38 of Set 3 | kalianget\n",
      "Processing Record 39 of Set 3 | kenai\n",
      "Processing Record 40 of Set 3 | chapeco\n",
      "Processing Record 41 of Set 3 | ruatoria\n",
      "City not found. Skipping...\n",
      "Processing Record 42 of Set 3 | broken hill\n",
      "Processing Record 43 of Set 3 | vila velha\n",
      "Processing Record 44 of Set 3 | kodar\n",
      "Processing Record 45 of Set 3 | kaeo\n",
      "Processing Record 46 of Set 3 | aklavik\n",
      "Processing Record 47 of Set 3 | kalmunai\n",
      "Processing Record 48 of Set 3 | mildmay\n",
      "Processing Record 49 of Set 3 | dawlatabad\n",
      "Processing Record 50 of Set 3 | beterou\n",
      "Processing Record 0 of Set 4 | wuan\n",
      "Processing Record 1 of Set 4 | son la\n",
      "Processing Record 2 of Set 4 | north platte\n",
      "Processing Record 3 of Set 4 | porto nacional\n",
      "Processing Record 4 of Set 4 | gat\n",
      "Processing Record 5 of Set 4 | miramar\n",
      "Processing Record 6 of Set 4 | lebedinyy\n",
      "Processing Record 7 of Set 4 | bayburt\n",
      "Processing Record 8 of Set 4 | tevriz\n",
      "Processing Record 9 of Set 4 | ferrol\n",
      "Processing Record 10 of Set 4 | colares\n",
      "Processing Record 11 of Set 4 | kerrobert\n",
      "Processing Record 12 of Set 4 | abu kamal\n",
      "Processing Record 13 of Set 4 | puerto ayora\n",
      "Processing Record 14 of Set 4 | paamiut\n",
      "Processing Record 15 of Set 4 | mar del plata\n",
      "Processing Record 16 of Set 4 | asyut\n",
      "Processing Record 17 of Set 4 | jutai\n",
      "Processing Record 18 of Set 4 | huarmey\n",
      "Processing Record 19 of Set 4 | clyde river\n",
      "Processing Record 20 of Set 4 | alofi\n",
      "Processing Record 21 of Set 4 | daru\n",
      "Processing Record 22 of Set 4 | la union\n",
      "Processing Record 23 of Set 4 | college\n",
      "Processing Record 24 of Set 4 | lajas\n",
      "Processing Record 25 of Set 4 | shache\n",
      "Processing Record 26 of Set 4 | sibolga\n",
      "Processing Record 27 of Set 4 | minsk\n",
      "Processing Record 28 of Set 4 | verkhnyaya inta\n",
      "Processing Record 29 of Set 4 | tiksi\n",
      "Processing Record 30 of Set 4 | anamur\n",
      "Processing Record 31 of Set 4 | yaan\n",
      "Processing Record 32 of Set 4 | lompoc\n",
      "Processing Record 33 of Set 4 | lasa\n",
      "Processing Record 34 of Set 4 | ayagoz\n",
      "Processing Record 35 of Set 4 | grand centre\n",
      "City not found. Skipping...\n"
     ]
    },
    {
     "name": "stdout",
     "output_type": "stream",
     "text": [
      "Processing Record 36 of Set 4 | bodmin\n",
      "Processing Record 37 of Set 4 | port hedland\n",
      "Processing Record 38 of Set 4 | rawson\n",
      "Processing Record 39 of Set 4 | banjarmasin\n",
      "Processing Record 40 of Set 4 | sao felix do xingu\n",
      "Processing Record 41 of Set 4 | broome\n",
      "Processing Record 42 of Set 4 | east london\n",
      "Processing Record 43 of Set 4 | atuona\n",
      "Processing Record 44 of Set 4 | mys shmidta\n",
      "City not found. Skipping...\n",
      "Processing Record 45 of Set 4 | ko samui\n",
      "Processing Record 46 of Set 4 | sarangani\n",
      "Processing Record 47 of Set 4 | georgetown\n",
      "Processing Record 48 of Set 4 | haines junction\n",
      "Processing Record 49 of Set 4 | ucluelet\n",
      "Processing Record 50 of Set 4 | ushuaia\n",
      "Processing Record 0 of Set 5 | dembi dolo\n",
      "Processing Record 1 of Set 5 | kazuno\n",
      "Processing Record 2 of Set 5 | tidore\n",
      "City not found. Skipping...\n",
      "Processing Record 3 of Set 5 | grand-lahou\n",
      "Processing Record 4 of Set 5 | natalio\n",
      "Processing Record 5 of Set 5 | portland\n",
      "Processing Record 6 of Set 5 | saint-pierre\n",
      "Processing Record 7 of Set 5 | zhenlai\n",
      "Processing Record 8 of Set 5 | nabire\n",
      "Processing Record 9 of Set 5 | sorland\n",
      "Processing Record 10 of Set 5 | saskylakh\n",
      "Processing Record 11 of Set 5 | lubao\n",
      "Processing Record 12 of Set 5 | attawapiskat\n",
      "City not found. Skipping...\n",
      "Processing Record 13 of Set 5 | seoul\n",
      "Processing Record 14 of Set 5 | vytegra\n",
      "Processing Record 15 of Set 5 | katsuura\n",
      "Processing Record 16 of Set 5 | touros\n",
      "Processing Record 17 of Set 5 | tomatlan\n",
      "Processing Record 18 of Set 5 | eirunepe\n",
      "Processing Record 19 of Set 5 | butaritari\n",
      "Processing Record 20 of Set 5 | honiara\n",
      "Processing Record 21 of Set 5 | paraiso\n",
      "Processing Record 22 of Set 5 | qaanaaq\n",
      "Processing Record 23 of Set 5 | sakakah\n",
      "Processing Record 24 of Set 5 | riom\n",
      "Processing Record 25 of Set 5 | kudahuvadhoo\n",
      "Processing Record 26 of Set 5 | saint-francois\n",
      "Processing Record 27 of Set 5 | cap malheureux\n",
      "Processing Record 28 of Set 5 | biak\n",
      "Processing Record 29 of Set 5 | onega\n",
      "Processing Record 30 of Set 5 | rexburg\n",
      "Processing Record 31 of Set 5 | severo-kurilsk\n",
      "Processing Record 32 of Set 5 | nivala\n",
      "Processing Record 33 of Set 5 | ancud\n",
      "Processing Record 34 of Set 5 | pisco\n",
      "Processing Record 35 of Set 5 | suozhen\n",
      "Processing Record 36 of Set 5 | nelson bay\n",
      "Processing Record 37 of Set 5 | cape town\n",
      "Processing Record 38 of Set 5 | artyk\n",
      "City not found. Skipping...\n",
      "Processing Record 39 of Set 5 | satitoa\n",
      "City not found. Skipping...\n",
      "Processing Record 40 of Set 5 | lima duarte\n",
      "Processing Record 41 of Set 5 | mossendjo\n",
      "Processing Record 42 of Set 5 | vila franca do campo\n",
      "Processing Record 43 of Set 5 | sungai siput utara\n",
      "City not found. Skipping...\n",
      "Processing Record 44 of Set 5 | banda\n",
      "Processing Record 45 of Set 5 | fortuna\n",
      "Processing Record 46 of Set 5 | ola\n",
      "Processing Record 47 of Set 5 | lagoa\n",
      "Processing Record 48 of Set 5 | marcona\n",
      "City not found. Skipping...\n",
      "Processing Record 49 of Set 5 | floro\n",
      "Processing Record 50 of Set 5 | barentsburg\n",
      "City not found. Skipping...\n",
      "Processing Record 0 of Set 6 | khonuu\n",
      "City not found. Skipping...\n",
      "Processing Record 1 of Set 6 | longyearbyen\n",
      "Processing Record 2 of Set 6 | ambon\n",
      "Processing Record 3 of Set 6 | novaya ladoga\n",
      "Processing Record 4 of Set 6 | zhaoyang\n",
      "Processing Record 5 of Set 6 | blackwater\n",
      "Processing Record 6 of Set 6 | esso\n",
      "Processing Record 7 of Set 6 | iracoubo\n",
      "Processing Record 8 of Set 6 | nizhnevartovsk\n",
      "Processing Record 9 of Set 6 | saint-augustin\n",
      "Processing Record 10 of Set 6 | vaini\n",
      "Processing Record 11 of Set 6 | komsomolskiy\n",
      "Processing Record 12 of Set 6 | play cu\n",
      "City not found. Skipping...\n",
      "Processing Record 13 of Set 6 | norman wells\n",
      "Processing Record 14 of Set 6 | palauig\n",
      "Processing Record 15 of Set 6 | naze\n",
      "Processing Record 16 of Set 6 | illoqqortoormiut\n",
      "City not found. Skipping...\n",
      "Processing Record 17 of Set 6 | bilibino\n",
      "Processing Record 18 of Set 6 | tapaua\n",
      "City not found. Skipping...\n",
      "Processing Record 19 of Set 6 | victoria\n",
      "Processing Record 20 of Set 6 | somotillo\n",
      "Processing Record 21 of Set 6 | palmer\n",
      "Processing Record 22 of Set 6 | mataura\n",
      "Processing Record 23 of Set 6 | puerto madryn\n",
      "Processing Record 24 of Set 6 | inhambane\n",
      "Processing Record 25 of Set 6 | olean\n",
      "Processing Record 26 of Set 6 | nyagan\n",
      "Processing Record 27 of Set 6 | saurimo\n",
      "Processing Record 28 of Set 6 | moerai\n",
      "Processing Record 29 of Set 6 | faanui\n",
      "Processing Record 30 of Set 6 | chinsali\n",
      "Processing Record 31 of Set 6 | khatanga\n",
      "Processing Record 32 of Set 6 | korla\n",
      "Processing Record 33 of Set 6 | kapaa\n",
      "Processing Record 34 of Set 6 | agustin codazzi\n",
      "Processing Record 35 of Set 6 | olafsvik\n",
      "Processing Record 36 of Set 6 | camara de lobos\n",
      "Processing Record 37 of Set 6 | tukums\n",
      "Processing Record 38 of Set 6 | awjilah\n",
      "Processing Record 39 of Set 6 | hasaki\n",
      "Processing Record 40 of Set 6 | nkayi\n",
      "Processing Record 41 of Set 6 | bengkulu\n",
      "Processing Record 42 of Set 6 | simav\n",
      "Processing Record 43 of Set 6 | paita\n",
      "Processing Record 44 of Set 6 | eydhafushi\n",
      "Processing Record 45 of Set 6 | trelew\n",
      "Processing Record 46 of Set 6 | ust-omchug\n",
      "Processing Record 47 of Set 6 | caravelas\n",
      "Processing Record 48 of Set 6 | batemans bay\n",
      "Processing Record 49 of Set 6 | maunabo\n",
      "Processing Record 50 of Set 6 | padang\n",
      "Processing Record 0 of Set 7 | azimur\n",
      "City not found. Skipping...\n",
      "Processing Record 1 of Set 7 | cabo san lucas\n",
      "Processing Record 2 of Set 7 | sorvag\n",
      "City not found. Skipping...\n",
      "Processing Record 3 of Set 7 | heihe\n",
      "Processing Record 4 of Set 7 | fuling\n",
      "Processing Record 5 of Set 7 | la ronge\n",
      "Processing Record 6 of Set 7 | hilo\n",
      "Processing Record 7 of Set 7 | jamestown\n",
      "Processing Record 8 of Set 7 | moose factory\n",
      "Processing Record 9 of Set 7 | agua branca\n",
      "Processing Record 10 of Set 7 | eyl\n",
      "Processing Record 11 of Set 7 | bhinmal\n",
      "Processing Record 12 of Set 7 | sabang\n",
      "Processing Record 13 of Set 7 | vagay\n",
      "Processing Record 14 of Set 7 | cherskiy\n",
      "Processing Record 15 of Set 7 | natitingou\n",
      "Processing Record 16 of Set 7 | evensk\n",
      "Processing Record 17 of Set 7 | miandoab\n",
      "Processing Record 18 of Set 7 | matara\n",
      "Processing Record 19 of Set 7 | phan thiet\n",
      "Processing Record 20 of Set 7 | carutapera\n",
      "Processing Record 21 of Set 7 | sumenep\n",
      "Processing Record 22 of Set 7 | nome\n",
      "Processing Record 23 of Set 7 | kumano\n",
      "Processing Record 24 of Set 7 | kaputa\n",
      "Processing Record 25 of Set 7 | hualmay\n",
      "Processing Record 26 of Set 7 | tibati\n",
      "Processing Record 27 of Set 7 | barahona\n",
      "Processing Record 28 of Set 7 | bambous virieux\n",
      "Processing Record 29 of Set 7 | kodinsk\n",
      "Processing Record 30 of Set 7 | santa fe\n",
      "Processing Record 31 of Set 7 | asau\n",
      "Processing Record 32 of Set 7 | mayo\n",
      "Processing Record 33 of Set 7 | noumea\n",
      "Processing Record 34 of Set 7 | mahebourg\n",
      "Processing Record 35 of Set 7 | cururupu\n",
      "Processing Record 36 of Set 7 | hami\n",
      "Processing Record 37 of Set 7 | manado\n",
      "Processing Record 38 of Set 7 | lerwick\n",
      "Processing Record 39 of Set 7 | balabac\n",
      "Processing Record 40 of Set 7 | zachagansk\n",
      "City not found. Skipping...\n",
      "Processing Record 41 of Set 7 | kyabram\n",
      "Processing Record 42 of Set 7 | port alfred\n",
      "Processing Record 43 of Set 7 | ponta delgada\n",
      "Processing Record 44 of Set 7 | juneau\n",
      "Processing Record 45 of Set 7 | springfield\n",
      "Processing Record 46 of Set 7 | nurota\n",
      "Processing Record 47 of Set 7 | khartoum\n",
      "Processing Record 48 of Set 7 | kruisfontein\n",
      "Processing Record 49 of Set 7 | puteyets\n",
      "Processing Record 50 of Set 7 | dangriga\n",
      "Processing Record 0 of Set 8 | emirdag\n",
      "Processing Record 1 of Set 8 | port-gentil\n",
      "Processing Record 2 of Set 8 | talnakh\n",
      "Processing Record 3 of Set 8 | acapulco\n",
      "Processing Record 4 of Set 8 | pilar\n",
      "Processing Record 5 of Set 8 | port hardy\n",
      "Processing Record 6 of Set 8 | faya\n",
      "Processing Record 7 of Set 8 | bluff\n",
      "Processing Record 8 of Set 8 | garowe\n",
      "Processing Record 9 of Set 8 | jumla\n",
      "Processing Record 10 of Set 8 | yellowknife\n",
      "Processing Record 11 of Set 8 | xichang\n",
      "Processing Record 12 of Set 8 | half moon bay\n",
      "Processing Record 13 of Set 8 | atasu\n",
      "Processing Record 14 of Set 8 | whitehorse\n",
      "Processing Record 15 of Set 8 | rafaela\n",
      "Processing Record 16 of Set 8 | gushikawa\n",
      "Processing Record 17 of Set 8 | boda\n",
      "Processing Record 18 of Set 8 | the valley\n",
      "Processing Record 19 of Set 8 | berdigestyakh\n",
      "Processing Record 20 of Set 8 | shimoda\n",
      "Processing Record 21 of Set 8 | bagdarin\n",
      "Processing Record 22 of Set 8 | quelimane\n"
     ]
    },
    {
     "name": "stdout",
     "output_type": "stream",
     "text": [
      "Processing Record 23 of Set 8 | nanortalik\n",
      "Processing Record 24 of Set 8 | tsihombe\n",
      "City not found. Skipping...\n",
      "Processing Record 25 of Set 8 | srednekolymsk\n",
      "Processing Record 26 of Set 8 | dingle\n",
      "Processing Record 27 of Set 8 | ugoofaaru\n",
      "Processing Record 28 of Set 8 | san francisco\n",
      "Processing Record 29 of Set 8 | tunceli\n",
      "Processing Record 30 of Set 8 | castro\n",
      "Processing Record 31 of Set 8 | kindersley\n",
      "Processing Record 32 of Set 8 | mirzapur\n",
      "Processing Record 33 of Set 8 | kewanee\n",
      "Processing Record 34 of Set 8 | sao jose da coroa grande\n",
      "Processing Record 35 of Set 8 | zeya\n",
      "Processing Record 36 of Set 8 | sola\n",
      "Processing Record 37 of Set 8 | hofn\n",
      "Processing Record 38 of Set 8 | balakhta\n",
      "Processing Record 39 of Set 8 | rock springs\n",
      "Processing Record 40 of Set 8 | djibo\n",
      "Processing Record 41 of Set 8 | kodiak\n",
      "Processing Record 42 of Set 8 | bahia blanca\n",
      "Processing Record 43 of Set 8 | ryotsu\n",
      "Processing Record 44 of Set 8 | barra do garcas\n",
      "Processing Record 45 of Set 8 | oga\n",
      "Processing Record 46 of Set 8 | rikitea\n",
      "Processing Record 47 of Set 8 | thompson\n",
      "Processing Record 48 of Set 8 | poltavka\n",
      "Processing Record 49 of Set 8 | tripoli\n",
      "Processing Record 50 of Set 8 | pamanukan\n",
      "Processing Record 0 of Set 9 | tonekabon\n",
      "Processing Record 1 of Set 9 | changtu\n",
      "Processing Record 2 of Set 9 | sunrise manor\n",
      "Processing Record 3 of Set 9 | cabedelo\n",
      "Processing Record 4 of Set 9 | kaspiyskiy\n",
      "Processing Record 5 of Set 9 | luderitz\n",
      "Processing Record 6 of Set 9 | san juan de uraba\n",
      "Processing Record 7 of Set 9 | arraial do cabo\n",
      "Processing Record 8 of Set 9 | hermanus\n",
      "Processing Record 9 of Set 9 | tabuk\n",
      "Processing Record 10 of Set 9 | magadan\n",
      "Processing Record 11 of Set 9 | saint-philippe\n",
      "Processing Record 12 of Set 9 | ribeira grande\n",
      "Processing Record 13 of Set 9 | kilindoni\n",
      "Processing Record 14 of Set 9 | zhigansk\n",
      "Processing Record 15 of Set 9 | kahului\n",
      "Processing Record 16 of Set 9 | linqiong\n",
      "Processing Record 17 of Set 9 | puerto escondido\n",
      "Processing Record 18 of Set 9 | laguna\n",
      "Processing Record 19 of Set 9 | beringovskiy\n",
      "Processing Record 20 of Set 9 | myitkyina\n",
      "Processing Record 21 of Set 9 | amderma\n",
      "City not found. Skipping...\n",
      "Processing Record 22 of Set 9 | geraldton\n",
      "Processing Record 23 of Set 9 | chimbote\n",
      "Processing Record 24 of Set 9 | margate\n",
      "Processing Record 25 of Set 9 | iqaluit\n",
      "Processing Record 26 of Set 9 | khorixas\n",
      "Processing Record 27 of Set 9 | bukama\n",
      "Processing Record 28 of Set 9 | bay roberts\n",
      "Processing Record 29 of Set 9 | villacarrillo\n",
      "Processing Record 30 of Set 9 | nizhneyansk\n",
      "City not found. Skipping...\n",
      "Processing Record 31 of Set 9 | pangnirtung\n",
      "Processing Record 32 of Set 9 | hithadhoo\n",
      "Processing Record 33 of Set 9 | araouane\n",
      "Processing Record 34 of Set 9 | louisbourg\n",
      "City not found. Skipping...\n",
      "Processing Record 35 of Set 9 | bur gabo\n",
      "City not found. Skipping...\n",
      "Processing Record 36 of Set 9 | belaya gora\n",
      "Processing Record 37 of Set 9 | fereydun kenar\n",
      "Processing Record 38 of Set 9 | bethanien\n",
      "Processing Record 39 of Set 9 | boa viagem\n",
      "Processing Record 40 of Set 9 | gizo\n",
      "Processing Record 41 of Set 9 | qasigiannguit\n",
      "Processing Record 42 of Set 9 | carnarvon\n",
      "Processing Record 43 of Set 9 | ambulu\n",
      "Processing Record 44 of Set 9 | misratah\n",
      "Processing Record 45 of Set 9 | bethel\n",
      "Processing Record 46 of Set 9 | khani\n",
      "Processing Record 47 of Set 9 | palabuhanratu\n",
      "City not found. Skipping...\n",
      "Processing Record 48 of Set 9 | ust-kamchatsk\n",
      "City not found. Skipping...\n",
      "Processing Record 49 of Set 9 | san quintin\n",
      "Processing Record 50 of Set 9 | poirino\n",
      "Processing Record 0 of Set 10 | sangin\n",
      "Processing Record 1 of Set 10 | luanda\n",
      "Processing Record 2 of Set 10 | boffa\n",
      "Processing Record 3 of Set 10 | vorchdorf\n",
      "Processing Record 4 of Set 10 | poum\n",
      "Processing Record 5 of Set 10 | hobart\n",
      "Processing Record 6 of Set 10 | mangrol\n",
      "Processing Record 7 of Set 10 | kotido\n",
      "Processing Record 8 of Set 10 | aksarka\n",
      "Processing Record 9 of Set 10 | simpang\n",
      "Processing Record 10 of Set 10 | muzhi\n",
      "Processing Record 11 of Set 10 | morondava\n",
      "Processing Record 12 of Set 10 | egvekinot\n",
      "Processing Record 13 of Set 10 | urumqi\n",
      "Processing Record 14 of Set 10 | taoudenni\n",
      "Processing Record 15 of Set 10 | hukuntsi\n",
      "Processing Record 16 of Set 10 | derventa\n",
      "Processing Record 17 of Set 10 | cidreira\n",
      "Processing Record 18 of Set 10 | thunder bay\n",
      "Processing Record 19 of Set 10 | dhidhdhoo\n",
      "Processing Record 20 of Set 10 | new norfolk\n",
      "Processing Record 21 of Set 10 | tasiilaq\n",
      "Processing Record 22 of Set 10 | kaitangata\n",
      "Processing Record 23 of Set 10 | rocha\n",
      "Processing Record 24 of Set 10 | mackay\n",
      "Processing Record 25 of Set 10 | hambantota\n",
      "Processing Record 26 of Set 10 | coos bay\n",
      "Processing Record 27 of Set 10 | tuatapere\n",
      "Processing Record 28 of Set 10 | port lincoln\n",
      "Processing Record 29 of Set 10 | west wendover\n",
      "Processing Record 30 of Set 10 | yenagoa\n",
      "Processing Record 31 of Set 10 | lazarev\n",
      "Processing Record 32 of Set 10 | kununurra\n",
      "Processing Record 33 of Set 10 | meulaboh\n",
      "Processing Record 34 of Set 10 | grindavik\n",
      "Processing Record 35 of Set 10 | cooma\n",
      "Processing Record 36 of Set 10 | vilyuysk\n",
      "Processing Record 37 of Set 10 | sayyan\n",
      "Processing Record 38 of Set 10 | chuy\n",
      "Processing Record 39 of Set 10 | moctezuma\n",
      "Processing Record 40 of Set 10 | sentyabrskiy\n",
      "City not found. Skipping...\n",
      "Processing Record 41 of Set 10 | barrow\n",
      "Processing Record 42 of Set 10 | port elizabeth\n",
      "Processing Record 43 of Set 10 | aden\n",
      "Processing Record 44 of Set 10 | leshan\n",
      "Processing Record 45 of Set 10 | plaster rock\n",
      "Processing Record 46 of Set 10 | si sa ket\n",
      "Processing Record 47 of Set 10 | la peca\n",
      "Processing Record 48 of Set 10 | redmond\n",
      "Processing Record 49 of Set 10 | khandyga\n",
      "Processing Record 50 of Set 10 | praia da vitoria\n",
      "Processing Record 0 of Set 11 | maniitsoq\n",
      "Processing Record 1 of Set 11 | sao filipe\n",
      "Processing Record 2 of Set 11 | sitka\n",
      "Processing Record 3 of Set 11 | matay\n",
      "Processing Record 4 of Set 11 | tilichiki\n",
      "Processing Record 5 of Set 11 | vangaindrano\n",
      "Processing Record 6 of Set 11 | northam\n",
      "Processing Record 7 of Set 11 | pennagaram\n",
      "Processing Record 8 of Set 11 | shingu\n",
      "Processing Record 9 of Set 11 | belushya guba\n",
      "City not found. Skipping...\n",
      "Processing Record 10 of Set 11 | havre-saint-pierre\n",
      "Processing Record 11 of Set 11 | xuanhua\n",
      "Processing Record 12 of Set 11 | sangueya\n",
      "Processing Record 13 of Set 11 | chokurdakh\n",
      "Processing Record 14 of Set 11 | pitimbu\n",
      "Processing Record 15 of Set 11 | kavieng\n",
      "Processing Record 16 of Set 11 | gedo\n",
      "Processing Record 17 of Set 11 | oranjemund\n",
      "Processing Record 18 of Set 11 | usinsk\n",
      "Processing Record 19 of Set 11 | bairiki\n",
      "Processing Record 20 of Set 11 | grand gaube\n",
      "Processing Record 21 of Set 11 | yulara\n",
      "Processing Record 22 of Set 11 | lavrentiya\n",
      "Processing Record 23 of Set 11 | lucea\n",
      "Processing Record 24 of Set 11 | imbituba\n",
      "Processing Record 25 of Set 11 | sharlyk\n",
      "Processing Record 26 of Set 11 | ahuimanu\n",
      "Processing Record 27 of Set 11 | sioux lookout\n",
      "Processing Record 28 of Set 11 | linjiang\n",
      "Processing Record 29 of Set 11 | kiruna\n",
      "Processing Record 30 of Set 11 | tuktoyaktuk\n",
      "Processing Record 31 of Set 11 | tzaneen\n",
      "Processing Record 32 of Set 11 | aykhal\n",
      "Processing Record 33 of Set 11 | bud\n",
      "Processing Record 34 of Set 11 | kavaratti\n",
      "Processing Record 35 of Set 11 | nikolskoye\n",
      "Processing Record 36 of Set 11 | grand river south east\n",
      "City not found. Skipping...\n",
      "-----------------------------\n",
      "Data Retrieval Complete\n",
      "-----------------------------\n"
     ]
    }
   ],
   "source": [
    "# Save config information\n",
    "url = \"http://api.openweathermap.org/data/2.5/weather?\"\n",
    "units = \"metric\"\n",
    "\n",
    "# Build query URL\n",
    "query_url = url + \"appid=\" + weather_api_key + \"&units=\" + units + \"&q=\"\n",
    "\n",
    "# Set up lists to hold reponse info\n",
    "city = []\n",
    "lat = []\n",
    "lng = []\n",
    "max_temp = []\n",
    "humidity = []\n",
    "cloudiness = []\n",
    "wind_speed = [] \n",
    "country = []\n",
    "date = []\n",
    "\n",
    "# Set start values\n",
    "records = 0\n",
    "sets = 1\n",
    "\n",
    "# Print statements at beginning \n",
    "print(\"Beginning Data Retrieval\")    \n",
    "print(\"-----------------------------\")\n",
    "\n",
    "# Loop through the list of cities and perform a request for data for each\n",
    "for y in cities:\n",
    "    # request data for each city\n",
    "    response = requests.get(query_url + y).json()\n",
    "    \n",
    "    # Records go up to 50\n",
    "    if records < 50:\n",
    "        records += 1\n",
    "        \n",
    "    # Sets increase after record 50\n",
    "    else:\n",
    "        sets += 1\n",
    "        records = 0\n",
    "        \n",
    "    # Print statement has to go here or record numbers skip when city not found. Not sure why\n",
    "    print(f\"Processing Record {records} of Set {sets} | {y}\")\n",
    "\n",
    "    try:\n",
    "        city.append(response[\"name\"])\n",
    "        lat.append(response[\"coord\"][\"lat\"])\n",
    "        lng.append(response[\"coord\"][\"lon\"])\n",
    "        max_temp.append(response[\"main\"][\"temp_max\"])\n",
    "        humidity.append(response[\"main\"][\"humidity\"])\n",
    "        cloudiness.append(response[\"clouds\"][\"all\"])\n",
    "        wind_speed.append(response[\"wind\"][\"speed\"])\n",
    "        country.append(response[\"sys\"][\"country\"])\n",
    "        date.append(response[\"dt\"])\n",
    "                          \n",
    "    except KeyError:\n",
    "        print(\"City not found. Skipping...\")\n",
    "\n",
    "# Print statements at end\n",
    "print(\"-----------------------------\")\n",
    "print(\"Data Retrieval Complete\")      \n",
    "print(\"-----------------------------\")"
   ]
  },
  {
   "cell_type": "markdown",
   "metadata": {},
   "source": [
    "### Convert Raw Data to DataFrame\n",
    "* Export the city data into a .csv.\n",
    "* Display the DataFrame"
   ]
  },
  {
   "cell_type": "code",
   "execution_count": 8,
   "metadata": {},
   "outputs": [
    {
     "data": {
      "text/html": [
       "<div>\n",
       "<style scoped>\n",
       "    .dataframe tbody tr th:only-of-type {\n",
       "        vertical-align: middle;\n",
       "    }\n",
       "\n",
       "    .dataframe tbody tr th {\n",
       "        vertical-align: top;\n",
       "    }\n",
       "\n",
       "    .dataframe thead th {\n",
       "        text-align: right;\n",
       "    }\n",
       "</style>\n",
       "<table border=\"1\" class=\"dataframe\">\n",
       "  <thead>\n",
       "    <tr style=\"text-align: right;\">\n",
       "      <th></th>\n",
       "      <th>City</th>\n",
       "      <th>Lat</th>\n",
       "      <th>Lng</th>\n",
       "      <th>Max Temp</th>\n",
       "      <th>Humidity</th>\n",
       "      <th>Cloudiness</th>\n",
       "      <th>Wind Speed</th>\n",
       "      <th>Country</th>\n",
       "      <th>Date</th>\n",
       "    </tr>\n",
       "  </thead>\n",
       "  <tbody>\n",
       "    <tr>\n",
       "      <th>0</th>\n",
       "      <td>Yarmouth</td>\n",
       "      <td>41.7057</td>\n",
       "      <td>-70.2286</td>\n",
       "      <td>4.44</td>\n",
       "      <td>70</td>\n",
       "      <td>1</td>\n",
       "      <td>5.14</td>\n",
       "      <td>US</td>\n",
       "      <td>1610971237</td>\n",
       "    </tr>\n",
       "    <tr>\n",
       "      <th>1</th>\n",
       "      <td>Otradnoye</td>\n",
       "      <td>59.7775</td>\n",
       "      <td>30.8181</td>\n",
       "      <td>-4.00</td>\n",
       "      <td>93</td>\n",
       "      <td>90</td>\n",
       "      <td>2.00</td>\n",
       "      <td>RU</td>\n",
       "      <td>1610971237</td>\n",
       "    </tr>\n",
       "    <tr>\n",
       "      <th>2</th>\n",
       "      <td>Pokhara</td>\n",
       "      <td>28.2333</td>\n",
       "      <td>83.9833</td>\n",
       "      <td>16.23</td>\n",
       "      <td>46</td>\n",
       "      <td>26</td>\n",
       "      <td>1.30</td>\n",
       "      <td>NP</td>\n",
       "      <td>1610971078</td>\n",
       "    </tr>\n",
       "    <tr>\n",
       "      <th>3</th>\n",
       "      <td>Colinas</td>\n",
       "      <td>-6.0258</td>\n",
       "      <td>-44.2492</td>\n",
       "      <td>25.47</td>\n",
       "      <td>87</td>\n",
       "      <td>100</td>\n",
       "      <td>1.63</td>\n",
       "      <td>BR</td>\n",
       "      <td>1610971238</td>\n",
       "    </tr>\n",
       "    <tr>\n",
       "      <th>4</th>\n",
       "      <td>Bouloupari</td>\n",
       "      <td>-21.8667</td>\n",
       "      <td>166.0500</td>\n",
       "      <td>25.00</td>\n",
       "      <td>94</td>\n",
       "      <td>0</td>\n",
       "      <td>1.40</td>\n",
       "      <td>NC</td>\n",
       "      <td>1610971238</td>\n",
       "    </tr>\n",
       "    <tr>\n",
       "      <th>...</th>\n",
       "      <td>...</td>\n",
       "      <td>...</td>\n",
       "      <td>...</td>\n",
       "      <td>...</td>\n",
       "      <td>...</td>\n",
       "      <td>...</td>\n",
       "      <td>...</td>\n",
       "      <td>...</td>\n",
       "      <td>...</td>\n",
       "    </tr>\n",
       "    <tr>\n",
       "      <th>498</th>\n",
       "      <td>Tzaneen</td>\n",
       "      <td>-23.8332</td>\n",
       "      <td>30.1635</td>\n",
       "      <td>24.00</td>\n",
       "      <td>53</td>\n",
       "      <td>20</td>\n",
       "      <td>3.09</td>\n",
       "      <td>ZA</td>\n",
       "      <td>1610971366</td>\n",
       "    </tr>\n",
       "    <tr>\n",
       "      <th>499</th>\n",
       "      <td>Aykhal</td>\n",
       "      <td>66.0000</td>\n",
       "      <td>111.5000</td>\n",
       "      <td>-42.31</td>\n",
       "      <td>76</td>\n",
       "      <td>80</td>\n",
       "      <td>1.37</td>\n",
       "      <td>RU</td>\n",
       "      <td>1610971366</td>\n",
       "    </tr>\n",
       "    <tr>\n",
       "      <th>500</th>\n",
       "      <td>Bud</td>\n",
       "      <td>39.4470</td>\n",
       "      <td>-86.1758</td>\n",
       "      <td>-2.22</td>\n",
       "      <td>89</td>\n",
       "      <td>53</td>\n",
       "      <td>3.29</td>\n",
       "      <td>US</td>\n",
       "      <td>1610971366</td>\n",
       "    </tr>\n",
       "    <tr>\n",
       "      <th>501</th>\n",
       "      <td>Kavaratti</td>\n",
       "      <td>10.5669</td>\n",
       "      <td>72.6420</td>\n",
       "      <td>28.21</td>\n",
       "      <td>67</td>\n",
       "      <td>0</td>\n",
       "      <td>2.35</td>\n",
       "      <td>IN</td>\n",
       "      <td>1610971367</td>\n",
       "    </tr>\n",
       "    <tr>\n",
       "      <th>502</th>\n",
       "      <td>Nikolskoye</td>\n",
       "      <td>59.7035</td>\n",
       "      <td>30.7861</td>\n",
       "      <td>-4.00</td>\n",
       "      <td>93</td>\n",
       "      <td>90</td>\n",
       "      <td>2.00</td>\n",
       "      <td>RU</td>\n",
       "      <td>1610971367</td>\n",
       "    </tr>\n",
       "  </tbody>\n",
       "</table>\n",
       "<p>503 rows × 9 columns</p>\n",
       "</div>"
      ],
      "text/plain": [
       "           City      Lat       Lng  Max Temp  Humidity  Cloudiness  \\\n",
       "0      Yarmouth  41.7057  -70.2286      4.44        70           1   \n",
       "1     Otradnoye  59.7775   30.8181     -4.00        93          90   \n",
       "2       Pokhara  28.2333   83.9833     16.23        46          26   \n",
       "3       Colinas  -6.0258  -44.2492     25.47        87         100   \n",
       "4    Bouloupari -21.8667  166.0500     25.00        94           0   \n",
       "..          ...      ...       ...       ...       ...         ...   \n",
       "498     Tzaneen -23.8332   30.1635     24.00        53          20   \n",
       "499      Aykhal  66.0000  111.5000    -42.31        76          80   \n",
       "500         Bud  39.4470  -86.1758     -2.22        89          53   \n",
       "501   Kavaratti  10.5669   72.6420     28.21        67           0   \n",
       "502  Nikolskoye  59.7035   30.7861     -4.00        93          90   \n",
       "\n",
       "     Wind Speed Country        Date  \n",
       "0          5.14      US  1610971237  \n",
       "1          2.00      RU  1610971237  \n",
       "2          1.30      NP  1610971078  \n",
       "3          1.63      BR  1610971238  \n",
       "4          1.40      NC  1610971238  \n",
       "..          ...     ...         ...  \n",
       "498        3.09      ZA  1610971366  \n",
       "499        1.37      RU  1610971366  \n",
       "500        3.29      US  1610971366  \n",
       "501        2.35      IN  1610971367  \n",
       "502        2.00      RU  1610971367  \n",
       "\n",
       "[503 rows x 9 columns]"
      ]
     },
     "execution_count": 8,
     "metadata": {},
     "output_type": "execute_result"
    }
   ],
   "source": [
    "# Creating a dict from the lists\n",
    "weather_dict = {\n",
    "                \"City\" : city,\n",
    "                \"Lat\" : lat,\n",
    "                \"Lng\" : lng,\n",
    "                \"Max Temp\" : max_temp,\n",
    "                \"Humidity\" : humidity,\n",
    "                \"Cloudiness\" : cloudiness,\n",
    "                \"Wind Speed\" : wind_speed,\n",
    "                \"Country\" : country,\n",
    "                \"Date\" : date\n",
    "                }\n",
    "\n",
    "# Creating a data frame with the dict\n",
    "weather_df = pd.DataFrame(weather_dict)\n",
    "weather_df"
   ]
  },
  {
   "cell_type": "code",
   "execution_count": 9,
   "metadata": {},
   "outputs": [
    {
     "data": {
      "text/html": [
       "<div>\n",
       "<style scoped>\n",
       "    .dataframe tbody tr th:only-of-type {\n",
       "        vertical-align: middle;\n",
       "    }\n",
       "\n",
       "    .dataframe tbody tr th {\n",
       "        vertical-align: top;\n",
       "    }\n",
       "\n",
       "    .dataframe thead th {\n",
       "        text-align: right;\n",
       "    }\n",
       "</style>\n",
       "<table border=\"1\" class=\"dataframe\">\n",
       "  <thead>\n",
       "    <tr style=\"text-align: right;\">\n",
       "      <th></th>\n",
       "      <th>Lat</th>\n",
       "      <th>Lng</th>\n",
       "      <th>Max Temp</th>\n",
       "      <th>Humidity</th>\n",
       "      <th>Cloudiness</th>\n",
       "      <th>Wind Speed</th>\n",
       "      <th>Date</th>\n",
       "    </tr>\n",
       "  </thead>\n",
       "  <tbody>\n",
       "    <tr>\n",
       "      <th>count</th>\n",
       "      <td>503.000000</td>\n",
       "      <td>503.000000</td>\n",
       "      <td>503.000000</td>\n",
       "      <td>503.000000</td>\n",
       "      <td>503.000000</td>\n",
       "      <td>503.000000</td>\n",
       "      <td>5.030000e+02</td>\n",
       "    </tr>\n",
       "    <tr>\n",
       "      <th>mean</th>\n",
       "      <td>20.957218</td>\n",
       "      <td>18.820128</td>\n",
       "      <td>9.638410</td>\n",
       "      <td>71.431412</td>\n",
       "      <td>53.159046</td>\n",
       "      <td>3.733300</td>\n",
       "      <td>1.610971e+09</td>\n",
       "    </tr>\n",
       "    <tr>\n",
       "      <th>std</th>\n",
       "      <td>33.793309</td>\n",
       "      <td>91.245414</td>\n",
       "      <td>19.501724</td>\n",
       "      <td>21.614118</td>\n",
       "      <td>37.971243</td>\n",
       "      <td>2.650633</td>\n",
       "      <td>7.383538e+01</td>\n",
       "    </tr>\n",
       "    <tr>\n",
       "      <th>min</th>\n",
       "      <td>-54.800000</td>\n",
       "      <td>-179.166700</td>\n",
       "      <td>-49.030000</td>\n",
       "      <td>8.000000</td>\n",
       "      <td>0.000000</td>\n",
       "      <td>0.230000</td>\n",
       "      <td>1.610971e+09</td>\n",
       "    </tr>\n",
       "    <tr>\n",
       "      <th>25%</th>\n",
       "      <td>-6.820700</td>\n",
       "      <td>-61.879550</td>\n",
       "      <td>-2.000000</td>\n",
       "      <td>61.500000</td>\n",
       "      <td>16.500000</td>\n",
       "      <td>1.725000</td>\n",
       "      <td>1.610971e+09</td>\n",
       "    </tr>\n",
       "    <tr>\n",
       "      <th>50%</th>\n",
       "      <td>25.150000</td>\n",
       "      <td>24.662200</td>\n",
       "      <td>16.000000</td>\n",
       "      <td>78.000000</td>\n",
       "      <td>60.000000</td>\n",
       "      <td>3.090000</td>\n",
       "      <td>1.610971e+09</td>\n",
       "    </tr>\n",
       "    <tr>\n",
       "      <th>75%</th>\n",
       "      <td>49.793400</td>\n",
       "      <td>100.344850</td>\n",
       "      <td>25.575000</td>\n",
       "      <td>87.000000</td>\n",
       "      <td>90.000000</td>\n",
       "      <td>5.140000</td>\n",
       "      <td>1.610971e+09</td>\n",
       "    </tr>\n",
       "    <tr>\n",
       "      <th>max</th>\n",
       "      <td>78.218600</td>\n",
       "      <td>179.316700</td>\n",
       "      <td>37.660000</td>\n",
       "      <td>100.000000</td>\n",
       "      <td>100.000000</td>\n",
       "      <td>16.970000</td>\n",
       "      <td>1.610971e+09</td>\n",
       "    </tr>\n",
       "  </tbody>\n",
       "</table>\n",
       "</div>"
      ],
      "text/plain": [
       "              Lat         Lng    Max Temp    Humidity  Cloudiness  Wind Speed  \\\n",
       "count  503.000000  503.000000  503.000000  503.000000  503.000000  503.000000   \n",
       "mean    20.957218   18.820128    9.638410   71.431412   53.159046    3.733300   \n",
       "std     33.793309   91.245414   19.501724   21.614118   37.971243    2.650633   \n",
       "min    -54.800000 -179.166700  -49.030000    8.000000    0.000000    0.230000   \n",
       "25%     -6.820700  -61.879550   -2.000000   61.500000   16.500000    1.725000   \n",
       "50%     25.150000   24.662200   16.000000   78.000000   60.000000    3.090000   \n",
       "75%     49.793400  100.344850   25.575000   87.000000   90.000000    5.140000   \n",
       "max     78.218600  179.316700   37.660000  100.000000  100.000000   16.970000   \n",
       "\n",
       "               Date  \n",
       "count  5.030000e+02  \n",
       "mean   1.610971e+09  \n",
       "std    7.383538e+01  \n",
       "min    1.610971e+09  \n",
       "25%    1.610971e+09  \n",
       "50%    1.610971e+09  \n",
       "75%    1.610971e+09  \n",
       "max    1.610971e+09  "
      ]
     },
     "execution_count": 9,
     "metadata": {},
     "output_type": "execute_result"
    }
   ],
   "source": [
    "# Show statistics of the new dataframe\n",
    "weather_df.describe()"
   ]
  },
  {
   "cell_type": "code",
   "execution_count": 15,
   "metadata": {},
   "outputs": [],
   "source": [
    "# Export the city data into a .csv\n",
    "weather_df.to_csv(\"output_data/cities.csv\", encoding=\"utf-8\", index=False, header=True)"
   ]
  },
  {
   "cell_type": "markdown",
   "metadata": {},
   "source": [
    "## Inspect the data and remove the cities where the humidity > 100%.\n",
    "----\n",
    "Skip this step if there are no cities that have humidity > 100%. "
   ]
  },
  {
   "cell_type": "code",
   "execution_count": null,
   "metadata": {},
   "outputs": [],
   "source": []
  },
  {
   "cell_type": "code",
   "execution_count": null,
   "metadata": {},
   "outputs": [],
   "source": [
    "#  Get the indices of cities that have humidity over 100%.\n"
   ]
  },
  {
   "cell_type": "code",
   "execution_count": null,
   "metadata": {},
   "outputs": [],
   "source": [
    "# Make a new DataFrame equal to the city data to drop all humidity outliers by index.\n",
    "# Passing \"inplace=False\" will make a copy of the city_data DataFrame, which we call \"clean_city_data\".\n"
   ]
  },
  {
   "cell_type": "code",
   "execution_count": null,
   "metadata": {},
   "outputs": [],
   "source": [
    "\n"
   ]
  },
  {
   "cell_type": "markdown",
   "metadata": {},
   "source": [
    "## Plotting the Data\n",
    "* Use proper labeling of the plots using plot titles (including date of analysis) and axes labels.\n",
    "* Save the plotted figures as .pngs."
   ]
  },
  {
   "cell_type": "markdown",
   "metadata": {},
   "source": [
    "## Latitude vs. Temperature Plot"
   ]
  },
  {
   "cell_type": "code",
   "execution_count": 16,
   "metadata": {
    "scrolled": true
   },
   "outputs": [
    {
     "data": {
      "text/plain": [
       "City           object\n",
       "Lat           float64\n",
       "Lng           float64\n",
       "Max Temp      float64\n",
       "Humidity        int64\n",
       "Cloudiness      int64\n",
       "Wind Speed    float64\n",
       "Country        object\n",
       "Date            int64\n",
       "dtype: object"
      ]
     },
     "execution_count": 16,
     "metadata": {},
     "output_type": "execute_result"
    }
   ],
   "source": [
    "# check data types\n",
    "weather_df.dtypes"
   ]
  },
  {
   "cell_type": "code",
   "execution_count": 21,
   "metadata": {},
   "outputs": [
    {
     "data": {
      "image/png": "[encoded data removed]",
      "text/plain": [
       "<Figure size 432x288 with 1 Axes>"
      ]
     },
     "metadata": {
      "needs_background": "light"
     },
     "output_type": "display_data"
    }
   ],
   "source": [
    "# Create scatter plot, save .png and show the figure\n",
    "weather_df.plot.scatter(x='Lat', y='Max Temp', grid=True, edgecolors=\"black\", \n",
    "                                title=\"City Latitude vs Max Temperature\")\n",
    "plt.xlabel(\"Latitude\")\n",
    "plt.ylabel(\"Max Temperature(C)\")\n",
    "plt.savefig(\"output_data/Temp_vs_Lat.png\")\n",
    "plt.show()"
   ]
  },
  {
   "cell_type": "markdown",
   "metadata": {},
   "source": [
    "## Latitude vs. Humidity Plot"
   ]
  },
  {
   "cell_type": "code",
   "execution_count": 23,
   "metadata": {},
   "outputs": [
    {
     "data": {
      "image/png": "[encoded data removed]",
      "text/plain": [
       "<Figure size 432x288 with 1 Axes>"
      ]
     },
     "metadata": {
      "needs_background": "light"
     },
     "output_type": "display_data"
    }
   ],
   "source": [
    "# Create scatter plot, save .png and show the figure\n",
    "weather_df.plot.scatter(x='Lat', y='Humidity', grid=True, edgecolors=\"black\", title=\"City Latitude vs Humidity\")\n",
    "plt.xlabel(\"Latitude\")\n",
    "plt.ylabel(\"Humidity(%)\")\n",
    "plt.savefig(\"output_data/Lat_vs_Hum.png\")\n",
    "plt.show()"
   ]
  },
  {
   "cell_type": "markdown",
   "metadata": {},
   "source": [
    "## Latitude vs. Cloudiness Plot"
   ]
  },
  {
   "cell_type": "code",
   "execution_count": 25,
   "metadata": {},
   "outputs": [
    {
     "data": {
      "image/png": "[encoded data removed]",
      "text/plain": [
       "<Figure size 432x288 with 1 Axes>"
      ]
     },
     "metadata": {
      "needs_background": "light"
     },
     "output_type": "display_data"
    }
   ],
   "source": [
    "# Create scatter plot, save .png and show the figure\n",
    "weather_df.plot.scatter(x='Lat', y='Cloudiness', grid=True, edgecolors=\"black\", title=\"City Latitude vs Cloudiness\")\n",
    "plt.xlabel(\"Latitude\")\n",
    "plt.ylabel(\"Cloudiness(%)\")\n",
    "plt.savefig(\"output_data/Lat_vs_Clo.png\")\n",
    "plt.show()"
   ]
  },
  {
   "cell_type": "markdown",
   "metadata": {},
   "source": [
    "## Latitude vs. Wind Speed Plot"
   ]
  },
  {
   "cell_type": "code",
   "execution_count": 29,
   "metadata": {},
   "outputs": [
    {
     "data": {
      "image/png": "[encoded data removed]",
      "text/plain": [
       "<Figure size 432x288 with 1 Axes>"
      ]
     },
     "metadata": {
      "needs_background": "light"
     },
     "output_type": "display_data"
    }
   ],
   "source": [
    "# Create scatter plot, save .png and show the figure\n",
    "weather_df.plot.scatter(x='Lat', y='Wind Speed', grid=True, edgecolors=\"black\", title=\"City Latitude vs Wind Speed\")\n",
    "plt.xlabel(\"Latitude\")\n",
    "plt.ylabel(\"Wind Speed (meter/sec)\")\n",
    "plt.savefig(\"output_data/Lat_vs_Win.png\")\n",
    "plt.show()"
   ]
  },
  {
   "cell_type": "markdown",
   "metadata": {},
   "source": [
    "## Linear Regression"
   ]
  },
  {
   "cell_type": "code",
   "execution_count": 32,
   "metadata": {},
   "outputs": [],
   "source": [
    "# Create dataframes for Northern and Southern hemisphere\n",
    "north_hem = weather_df.loc[weather_df['Lat'] >= 0]\n",
    "south_hem = weather_df.loc[weather_df['Lat'] < 0]"
   ]
  },
  {
   "cell_type": "code",
   "execution_count": 37,
   "metadata": {},
   "outputs": [],
   "source": [
    "## Linear regression see class activity 6.3 / 10\n",
    "# Create function\n",
    "def regress (x_values, y_values, view, name):\n",
    "    \n",
    "    # Run linear regression\n",
    "    (slope, intercept, rvalue, pvalue, stderr) = linregress(x_values, y_values)\n",
    "    regress_values = x_values * slope + intercept\n",
    "    line_eq = \"y = \" + str(round(slope,2)) + \"x + \" + str(round(intercept,2))\n",
    "\n",
    "    # Plot scatter plot\n",
    "    plt.scatter(x_values, y_values)\n",
    "\n",
    "    # Plot regression line\n",
    "    plt.plot(x_values, regress_values, \"r-\")\n",
    "    plt.annotate(line_eq, view, fontsize=15,color=\"red\")\n",
    "        \n",
    "    # Label plot\n",
    "    plt.xlabel(\"Latitude\")\n",
    "    plt.ylabel(str(y_values.name))\n",
    "    \n",
    "    # Print r square value\n",
    "    print(f\"The r-value is: {rvalue}\")\n",
    "    \n",
    "    # Save plot as PNG\n",
    "    plt.savefig(f\"output_data/Lat_vs_{name}.png\")\n",
    "    \n",
    "    # Show plot\n",
    "    plt.show()"
   ]
  },
  {
   "cell_type": "markdown",
   "metadata": {},
   "source": [
    "####  Northern Hemisphere - Max Temp vs. Latitude Linear Regression"
   ]
  },
  {
   "cell_type": "code",
   "execution_count": 38,
   "metadata": {},
   "outputs": [
    {
     "name": "stdout",
     "output_type": "stream",
     "text": [
      "The r-value is: -0.8605127594609413\n"
     ]
    },
    {
     "data": {
      "image/png": "[encoded data removed]",
      "text/plain": [
       "<Figure size 432x288 with 1 Axes>"
      ]
     },
     "metadata": {
      "needs_background": "light"
     },
     "output_type": "display_data"
    }
   ],
   "source": [
    "# run function with inputs\n",
    "x_values = north_hem[\"Lat\"]\n",
    "y_values = north_hem[\"Max Temp\"]\n",
    "view = (10, -30)\n",
    "regress(x_values, y_values, view, \"MaxTempN\")"
   ]
  },
  {
   "cell_type": "markdown",
   "metadata": {},
   "source": [
    "####  Southern Hemisphere - Max Temp vs. Latitude Linear Regression"
   ]
  },
  {
   "cell_type": "code",
   "execution_count": 41,
   "metadata": {},
   "outputs": [
    {
     "name": "stdout",
     "output_type": "stream",
     "text": [
      "The r-value is: 0.5794722169515837\n"
     ]
    },
    {
     "data": {
      "image/png": "[encoded data removed]",
      "text/plain": [
       "<Figure size 432x288 with 1 Axes>"
      ]
     },
     "metadata": {
      "needs_background": "light"
     },
     "output_type": "display_data"
    }
   ],
   "source": [
    "# run function with inputs\n",
    "x_values = south_hem[\"Lat\"]\n",
    "y_values = south_hem[\"Max Temp\"]\n",
    "view = (-30, 12)\n",
    "regress(x_values, y_values, view, \"MaxTempS\")"
   ]
  },
  {
   "cell_type": "markdown",
   "metadata": {},
   "source": [
    "####  Northern Hemisphere - Humidity (%) vs. Latitude Linear Regression"
   ]
  },
  {
   "cell_type": "code",
   "execution_count": 44,
   "metadata": {},
   "outputs": [
    {
     "name": "stdout",
     "output_type": "stream",
     "text": [
      "The r-value is: 0.45465829675133385\n"
     ]
    },
    {
     "data": {
      "image/png": "[encoded data removed]",
      "text/plain": [
       "<Figure size 432x288 with 1 Axes>"
      ]
     },
     "metadata": {
      "needs_background": "light"
     },
     "output_type": "display_data"
    }
   ],
   "source": [
    "# run function with inputs\n",
    "x_values = north_hem[\"Lat\"]\n",
    "y_values = north_hem[\"Humidity\"]\n",
    "view = (40, 20)\n",
    "regress(x_values, y_values, view, \"HumN\")"
   ]
  },
  {
   "cell_type": "markdown",
   "metadata": {},
   "source": [
    "####  Southern Hemisphere - Humidity (%) vs. Latitude Linear Regression"
   ]
  },
  {
   "cell_type": "code",
   "execution_count": 46,
   "metadata": {},
   "outputs": [
    {
     "name": "stdout",
     "output_type": "stream",
     "text": [
      "The r-value is: 0.3024864884467253\n"
     ]
    },
    {
     "data": {
      "image/png": "[encoded data removed]",
      "text/plain": [
       "<Figure size 432x288 with 1 Axes>"
      ]
     },
     "metadata": {
      "needs_background": "light"
     },
     "output_type": "display_data"
    }
   ],
   "source": [
    "# run function with inputs\n",
    "x_values = south_hem[\"Lat\"]\n",
    "y_values = south_hem[\"Humidity\"]\n",
    "view = (-55, 12)\n",
    "regress(x_values, y_values, view, \"HumS\")"
   ]
  },
  {
   "cell_type": "markdown",
   "metadata": {},
   "source": [
    "####  Northern Hemisphere - Cloudiness (%) vs. Latitude Linear Regression"
   ]
  },
  {
   "cell_type": "code",
   "execution_count": 47,
   "metadata": {},
   "outputs": [
    {
     "name": "stdout",
     "output_type": "stream",
     "text": [
      "The r-value is: 0.26274433014998466\n"
     ]
    },
    {
     "data": {
      "image/png": "[encoded data removed]",
      "text/plain": [
       "<Figure size 432x288 with 1 Axes>"
      ]
     },
     "metadata": {
      "needs_background": "light"
     },
     "output_type": "display_data"
    }
   ],
   "source": [
    "# run function with inputs\n",
    "x_values = north_hem[\"Lat\"]\n",
    "y_values = north_hem[\"Cloudiness\"]\n",
    "view = (40, 20)\n",
    "regress(x_values, y_values, view, \"CloudN\")"
   ]
  },
  {
   "cell_type": "markdown",
   "metadata": {},
   "source": [
    "####  Southern Hemisphere - Cloudiness (%) vs. Latitude Linear Regression"
   ]
  },
  {
   "cell_type": "code",
   "execution_count": 49,
   "metadata": {},
   "outputs": [
    {
     "name": "stdout",
     "output_type": "stream",
     "text": [
      "The r-value is: 0.5095502811764422\n"
     ]
    },
    {
     "data": {
      "image/png": "[encoded data removed]",
      "text/plain": [
       "<Figure size 432x288 with 1 Axes>"
      ]
     },
     "metadata": {
      "needs_background": "light"
     },
     "output_type": "display_data"
    }
   ],
   "source": [
    "# run function with inputs\n",
    "x_values = south_hem[\"Lat\"]\n",
    "y_values = south_hem[\"Cloudiness\"]\n",
    "view = (-55, 99)\n",
    "regress(x_values, y_values, view, \"CloudS\")"
   ]
  },
  {
   "cell_type": "markdown",
   "metadata": {},
   "source": [
    "####  Northern Hemisphere - Wind Speed (mph) vs. Latitude Linear Regression"
   ]
  },
  {
   "cell_type": "code",
   "execution_count": 51,
   "metadata": {},
   "outputs": [
    {
     "name": "stdout",
     "output_type": "stream",
     "text": [
      "The r-value is: 0.004005004807005097\n"
     ]
    },
    {
     "data": {
      "image/png": "[encoded data removed]",
      "text/plain": [
       "<Figure size 432x288 with 1 Axes>"
      ]
     },
     "metadata": {
      "needs_background": "light"
     },
     "output_type": "display_data"
    }
   ],
   "source": [
    "# run function with inputs\n",
    "x_values = north_hem[\"Lat\"]\n",
    "y_values = north_hem[\"Wind Speed\"]\n",
    "view = (0, 15)\n",
    "regress(x_values, y_values, view, \"WindN\")"
   ]
  },
  {
   "cell_type": "markdown",
   "metadata": {},
   "source": [
    "####  Southern Hemisphere - Wind Speed (mph) vs. Latitude Linear Regression"
   ]
  },
  {
   "cell_type": "code",
   "execution_count": 53,
   "metadata": {},
   "outputs": [
    {
     "name": "stdout",
     "output_type": "stream",
     "text": [
      "The r-value is: -0.264452115662307\n"
     ]
    },
    {
     "data": {
      "image/png": "[encoded data removed]",
      "text/plain": [
       "<Figure size 432x288 with 1 Axes>"
      ]
     },
     "metadata": {
      "needs_background": "light"
     },
     "output_type": "display_data"
    }
   ],
   "source": [
    "# run function with inputs\n",
    "x_values = south_hem[\"Lat\"]\n",
    "y_values = south_hem[\"Wind Speed\"]\n",
    "view = (-30, 10)\n",
    "regress(x_values, y_values, view, \"WindS\")"
   ]
  },
  {
   "cell_type": "code",
   "execution_count": null,
   "metadata": {},
   "outputs": [],
   "source": []
  }
 ],
 "metadata": {
  "anaconda-cloud": {},
  "kernel_info": {
   "name": "python3"
  },
  "kernelspec": {
   "display_name": "Python [conda env:PythonData] *",
   "language": "python",
   "name": "conda-env-PythonData-py"
  },
  "language_info": {
   "codemirror_mode": {
    "name": "ipython",
    "version": 3
   },
   "file_extension": ".py",
   "mimetype": "text/x-python",
   "name": "python",
   "nbconvert_exporter": "python",
   "pygments_lexer": "ipython3",
   "version": "3.6.10"
  },
  "latex_envs": {
   "LaTeX_envs_menu_present": true,
   "autoclose": false,
   "autocomplete": true,
   "bibliofile": "biblio.bib",
   "cite_by": "apalike",
   "current_citInitial": 1,
   "eqLabelWithNumbers": true,
   "eqNumInitial": 1,
   "hotkeys": {
    "equation": "Ctrl-E",
    "itemize": "Ctrl-I"
   },
   "labels_anchors": false,
   "latex_user_defs": false,
   "report_style_numbering": false,
   "user_envs_cfg": false
  },
  "nteract": {
   "version": "0.12.3"
  }
 },
 "nbformat": 4,
 "nbformat_minor": 2
}
